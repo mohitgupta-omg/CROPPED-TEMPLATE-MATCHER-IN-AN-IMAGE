{
 "cells": [
  {
   "cell_type": "markdown",
   "metadata": {},
   "source": [
    "# Finding match of Cropped Template in an Image"
   ]
  },
  {
   "cell_type": "code",
   "execution_count": 4,
   "metadata": {},
   "outputs": [],
   "source": [
    "import cv2"
   ]
  },
  {
   "cell_type": "markdown",
   "metadata": {},
   "source": [
    "## Original Image"
   ]
  },
  {
   "cell_type": "code",
   "execution_count": 6,
   "metadata": {},
   "outputs": [],
   "source": [
    "image = cv2.imread('C:\\\\Users\\\\DELL\\\\Desktop\\\\Crop Image 1.jpg')\n",
    "cv2.imshow('Given Image', image)\n",
    "cv2.waitKey(0)\n",
    "cv2.destroyAllWindows()"
   ]
  },
  {
   "cell_type": "markdown",
   "metadata": {},
   "source": [
    "## Template Image"
   ]
  },
  {
   "cell_type": "code",
   "execution_count": 8,
   "metadata": {},
   "outputs": [],
   "source": [
    "# Finding the template\n",
    "template = cv2.imread('C:\\\\Users\\\\DELL\\\\Desktop\\\\Template 3.jpg')\n",
    "#template = cv2.imread('C:\\\\Users\\\\DELL\\\\Desktop\\\\Template 2.jpg')\n",
    "cv2.imshow('Template to match ', template)\n",
    "cv2.waitKey(0)\n",
    "cv2.destroyAllWindows()"
   ]
  },
  {
   "cell_type": "code",
   "execution_count": 10,
   "metadata": {},
   "outputs": [
    {
     "name": "stdout",
     "output_type": "stream",
     "text": [
      "Height of Template Image :  112\n",
      "Width of Template Image  :  201\n"
     ]
    }
   ],
   "source": [
    "height, width = template.shape[:2]\n",
    "\n",
    "print ('Height of Template Image : ', height)\n",
    "print ('Width of Template Image  : ', width )"
   ]
  },
  {
   "cell_type": "markdown",
   "metadata": {},
   "source": [
    "# 1 TM_CCOEFF"
   ]
  },
  {
   "cell_type": "code",
   "execution_count": 11,
   "metadata": {},
   "outputs": [
    {
     "name": "stdout",
     "output_type": "stream",
     "text": [
      "RESULT : \n",
      " [[-1988010.625 -2363278.    -2800020.    ...,  4294297.     3357658.\n",
      "   2173751.25 ]\n",
      " [-2584425.75  -2872039.25  -3277831.5   ...,  4340972.     3492902.\n",
      "   2376847.25 ]\n",
      " [-2938900.75  -3131944.75  -3475258.25  ...,  4439491.5    3661869.75\n",
      "   2647080.25 ]\n",
      " ..., \n",
      " [ 3883525.5    3642165.     2949629.    ..., -2220740.75  -2258064.\n",
      "  -2257565.25 ]\n",
      " [ 3951791.25   3626173.5    2925302.25  ..., -2690901.75  -2754071.5\n",
      "  -2801845.75 ]\n",
      " [ 4015488.5    3613450.     2926391.75  ..., -3264581.75  -3312716.25\n",
      "  -3319723.   ]]\n",
      "\n",
      "min_loc :  (511, 327)\n",
      "max_loc :  (373, 25)\n"
     ]
    }
   ],
   "source": [
    "\n",
    "gray_image = cv2.cvtColor(image, cv2.COLOR_BGR2GRAY)\n",
    "gray_template = cv2.cvtColor(template.copy(), cv2.COLOR_BGR2GRAY)\n",
    "\n",
    "result = cv2.matchTemplate(gray_image, gray_template, cv2.TM_CCOEFF)\n",
    "min_val, max_val, min_loc, max_loc = cv2.minMaxLoc(result)\n",
    "\n",
    "print ('RESULT : \\n', result)\n",
    "\n",
    "print ('\\nmin_loc : ', min_loc )\n",
    "print ('max_loc : ', max_loc )\n",
    "\n",
    "top_left_coordinates = max_loc\n",
    "bottom_right_coordinates = (top_left_coordinates[0] + 201, top_left_coordinates[1] + 112)\n",
    "cv2.rectangle(image, top_left_coordinates, bottom_right_coordinates, (0,0,255), 4)\n",
    "\n",
    "cv2.imshow('Finding match using TM_CCOEFF', image)\n",
    "cv2.waitKey(0)\n",
    "cv2.destroyAllWindows()"
   ]
  },
  {
   "cell_type": "markdown",
   "metadata": {},
   "source": [
    "# 2 TM_CCOEFF_NORMED"
   ]
  },
  {
   "cell_type": "code",
   "execution_count": 12,
   "metadata": {},
   "outputs": [
    {
     "name": "stdout",
     "output_type": "stream",
     "text": [
      "RESULT : \n",
      " [[-0.02620473 -0.03113901 -0.03685616 ...,  0.07322808  0.05742383\n",
      "   0.03728776]\n",
      " [-0.03399898 -0.03776937 -0.04306176 ...,  0.07420135  0.05988421\n",
      "   0.0408753 ]\n",
      " [-0.03860462 -0.04112645 -0.04558949 ...,  0.07596157  0.06284694\n",
      "   0.0455737 ]\n",
      " ..., \n",
      " [ 0.04626375  0.04336795  0.03508765 ..., -0.03543189 -0.03607145\n",
      "  -0.03610809]\n",
      " [ 0.04718931  0.04328167  0.03488356 ..., -0.04293991 -0.04400252\n",
      "  -0.04482257]\n",
      " [ 0.04811606  0.04328065  0.03501928 ..., -0.05208106 -0.05291571\n",
      "  -0.05309614]]\n",
      "\n",
      "min_loc :  (511, 327)\n",
      "max_loc :  (373, 25)\n"
     ]
    }
   ],
   "source": [
    "\n",
    "gray_image = cv2.cvtColor(image, cv2.COLOR_BGR2GRAY)\n",
    "gray_template = cv2.cvtColor(template.copy(), cv2.COLOR_BGR2GRAY)\n",
    "\n",
    "result = cv2.matchTemplate(gray_image, gray_template, cv2.TM_CCOEFF_NORMED)\n",
    "min_val, max_val, min_loc, max_loc = cv2.minMaxLoc(result)\n",
    "\n",
    "print ('RESULT : \\n', result)\n",
    "\n",
    "print ('\\nmin_loc : ', min_loc )\n",
    "print ('max_loc : ', max_loc )\n",
    "\n",
    "top_left_coordinates = max_loc\n",
    "bottom_right_coordinates = (top_left_coordinates[0] + 201, top_left_coordinates[1] + 112)\n",
    "cv2.rectangle(image, top_left_coordinates, bottom_right_coordinates, (0,0,255), 4)\n",
    "\n",
    "cv2.imshow('Finding match using TM_CCOEFF_NORMED', image)\n",
    "cv2.waitKey(0)\n",
    "cv2.destroyAllWindows()"
   ]
  },
  {
   "cell_type": "markdown",
   "metadata": {},
   "source": [
    "# 3 TM_CCORR"
   ]
  },
  {
   "cell_type": "code",
   "execution_count": 13,
   "metadata": {},
   "outputs": [
    {
     "name": "stdout",
     "output_type": "stream",
     "text": [
      "RESULT : \n",
      " [[  3.82124384e+08   3.81974432e+08   3.81589280e+08 ...,   3.65058368e+08\n",
      "    3.64130752e+08   3.62797376e+08]\n",
      " [  3.81822656e+08   3.81749472e+08   3.81395040e+08 ...,   3.63697312e+08\n",
      "    3.62846496e+08   3.61562272e+08]\n",
      " [  3.81890208e+08   3.81909632e+08   3.81626112e+08 ...,   3.62599424e+08\n",
      "    3.61798656e+08   3.60593728e+08]\n",
      " ..., \n",
      " [  4.21726144e+08   4.21379776e+08   4.20534240e+08 ...,   4.37574240e+08\n",
      "    4.38051232e+08   4.38561600e+08]\n",
      " [  4.22298656e+08   4.21852992e+08   4.20987744e+08 ...,   4.37985856e+08\n",
      "    4.38435040e+08   4.38894912e+08]\n",
      " [  4.22952384e+08   4.22412384e+08   4.21547872e+08 ...,   4.38370976e+08\n",
      "    4.38830880e+08   4.39325504e+08]]\n",
      "\n",
      "min_loc :  (759, 192)\n",
      "max_loc :  (588, 421)\n"
     ]
    }
   ],
   "source": [
    "\n",
    "gray_image = cv2.cvtColor(image, cv2.COLOR_BGR2GRAY)\n",
    "gray_template = cv2.cvtColor(template.copy(), cv2.COLOR_BGR2GRAY)\n",
    "\n",
    "result = cv2.matchTemplate(gray_image, gray_template, cv2.TM_CCORR)\n",
    "min_val, max_val, min_loc, max_loc = cv2.minMaxLoc(result)\n",
    "\n",
    "print ('RESULT : \\n', result)\n",
    "\n",
    "print ('\\nmin_loc : ', min_loc )\n",
    "print ('max_loc : ', max_loc )\n",
    "\n",
    "top_left_coordinates = max_loc\n",
    "bottom_right_coordinates = (top_left_coordinates[0] + 201, top_left_coordinates[1] + 112)\n",
    "cv2.rectangle(image, top_left_coordinates, bottom_right_coordinates, (255,0,0), 4)\n",
    "\n",
    "cv2.imshow('Finding match using TM_CCORR', image)\n",
    "cv2.waitKey(0)\n",
    "cv2.destroyAllWindows()"
   ]
  },
  {
   "cell_type": "markdown",
   "metadata": {},
   "source": [
    "# 4 TM_CCORR_NORMED"
   ]
  },
  {
   "cell_type": "code",
   "execution_count": 14,
   "metadata": {},
   "outputs": [
    {
     "name": "stdout",
     "output_type": "stream",
     "text": [
      "RESULT : \n",
      " [[ 0.83074671  0.82996029  0.82888842 ...,  0.86841512  0.86648732\n",
      "   0.86393321]\n",
      " [ 0.82929212  0.82869732  0.82769418 ...,  0.86841106  0.86669153\n",
      "   0.86429238]\n",
      " [ 0.82847035  0.8280831   0.82722735 ...,  0.86844176  0.86688542\n",
      "   0.86472362]\n",
      " ..., \n",
      " [ 0.84043509  0.83985275  0.83828372 ...,  0.86231834  0.86218542\n",
      "   0.86214125]\n",
      " [ 0.84107172  0.8403213   0.83873945 ...,  0.86196625  0.86174464\n",
      "   0.86157012]\n",
      " [ 0.84187514  0.84097254  0.83941895 ...,  0.8614434   0.86120641\n",
      "   0.86109215]]\n",
      "\n",
      "min_loc :  (85, 234)\n",
      "max_loc :  (373, 25)\n"
     ]
    }
   ],
   "source": [
    "\n",
    "gray_image = cv2.cvtColor(image, cv2.COLOR_BGR2GRAY)\n",
    "gray_template = cv2.cvtColor(template.copy(), cv2.COLOR_BGR2GRAY)\n",
    "\n",
    "result = cv2.matchTemplate(gray_image, gray_template, cv2.TM_CCORR_NORMED)\n",
    "min_val, max_val, min_loc, max_loc = cv2.minMaxLoc(result)\n",
    "\n",
    "print ('RESULT : \\n', result)\n",
    "\n",
    "print ('\\nmin_loc : ', min_loc )\n",
    "print ('max_loc : ', max_loc )\n",
    "\n",
    "top_left_coordinates = max_loc\n",
    "bottom_right_coordinates = (top_left_coordinates[0] + 201, top_left_coordinates[1] + 112)\n",
    "cv2.rectangle(image, top_left_coordinates, bottom_right_coordinates, (255,0,0), 4)\n",
    "\n",
    "cv2.imshow('Finding match using TM_CCORR_NORMED', image)\n",
    "cv2.waitKey(0)\n",
    "cv2.destroyAllWindows()"
   ]
  },
  {
   "cell_type": "markdown",
   "metadata": {},
   "source": [
    "# 5 TM_SQDIFF"
   ]
  },
  {
   "cell_type": "code",
   "execution_count": 15,
   "metadata": {},
   "outputs": [
    {
     "name": "stdout",
     "output_type": "stream",
     "text": [
      "RESULT : \n",
      " [[  1.55707616e+08   1.56516896e+08   1.57547552e+08 ...,   1.14219904e+08\n",
      "    1.15828448e+08   1.17946784e+08]\n",
      " [  1.57195552e+08   1.57825728e+08   1.58794656e+08 ...,   1.14092928e+08\n",
      "    1.15520736e+08   1.17501504e+08]\n",
      " [  1.58136064e+08   1.58575168e+08   1.59410912e+08 ...,   1.13968608e+08\n",
      "    1.15254912e+08   1.17031296e+08]\n",
      " ..., \n",
      " [  1.63736768e+08   1.64289216e+08   1.65828800e+08 ...,   1.40342144e+08\n",
      "    1.40734784e+08   1.41038528e+08]\n",
      " [  1.63246720e+08   1.63959616e+08   1.65505408e+08 ...,   1.41100416e+08\n",
      "    1.41583488e+08   1.42019072e+08]\n",
      " [  1.62587200e+08   1.63442880e+08   1.64953536e+08 ...,   1.42080320e+08\n",
      "    1.42580032e+08   1.42955200e+08]]\n",
      "\n",
      "min_loc :  (373, 25)\n",
      "max_loc :  (510, 324)\n"
     ]
    }
   ],
   "source": [
    "\n",
    "gray_image = cv2.cvtColor(image, cv2.COLOR_BGR2GRAY)\n",
    "gray_template = cv2.cvtColor(template.copy(), cv2.COLOR_BGR2GRAY)\n",
    "\n",
    "result = cv2.matchTemplate(gray_image, gray_template, cv2.TM_SQDIFF)\n",
    "min_val, max_val, min_loc, max_loc = cv2.minMaxLoc(result)\n",
    "\n",
    "print ('RESULT : \\n', result)\n",
    "\n",
    "print ('\\nmin_loc : ', min_loc )\n",
    "print ('max_loc : ', max_loc )\n",
    "\n",
    "top_left_coordinates = max_loc\n",
    "bottom_right_coordinates = (top_left_coordinates[0] + 201, top_left_coordinates[1] + 112)\n",
    "cv2.rectangle(image, top_left_coordinates, bottom_right_coordinates, (255,255,255), 4)\n",
    "\n",
    "cv2.imshow('Finding match using TM_SQDIFF', image)\n",
    "cv2.waitKey(0)\n",
    "cv2.destroyAllWindows()"
   ]
  },
  {
   "cell_type": "markdown",
   "metadata": {},
   "source": [
    "# 6  TM_SQDIFF_NORM"
   ]
  },
  {
   "cell_type": "code",
   "execution_count": 16,
   "metadata": {},
   "outputs": [
    {
     "name": "stdout",
     "output_type": "stream",
     "text": [
      "RESULT : \n",
      " [[ 0.33851177  0.34008244  0.34222487 ...,  0.27171078  0.27562597\n",
      "   0.28086787]\n",
      " [ 0.34141773  0.34260622  0.34461227 ...,  0.27242315  0.27593169\n",
      "   0.28088012]\n",
      " [ 0.34305939  0.34383374  0.34554523 ...,  0.27295989  0.2761558\n",
      "   0.28064752]\n",
      " ..., \n",
      " [ 0.32630232  0.32744536  0.33055979 ...,  0.28148627  0.28193912\n",
      "   0.28221586]\n",
      " [ 0.32513067  0.32660386  0.32973877 ...,  0.28248343  0.283117    0.2836571 ]\n",
      " [ 0.3236255   0.32539535  0.32846841 ...,  0.28386226  0.28452921\n",
      "   0.28495026]]\n",
      "\n",
      "min_loc :  (373, 25)\n",
      "max_loc :  (85, 234)\n"
     ]
    }
   ],
   "source": [
    "\n",
    "gray_image = cv2.cvtColor(image, cv2.COLOR_BGR2GRAY)\n",
    "gray_template = cv2.cvtColor(template.copy(), cv2.COLOR_BGR2GRAY)\n",
    "\n",
    "result = cv2.matchTemplate(gray_image, gray_template, cv2.TM_SQDIFF_NORMED)\n",
    "min_val, max_val, min_loc, max_loc = cv2.minMaxLoc(result)\n",
    "\n",
    "print ('RESULT : \\n', result)\n",
    "\n",
    "print ('\\nmin_loc : ', min_loc )\n",
    "print ('max_loc : ', max_loc )\n",
    "\n",
    "top_left_coordinates = max_loc\n",
    "bottom_right_coordinates = (top_left_coordinates[0] + 201, top_left_coordinates[1] + 112)\n",
    "cv2.rectangle(image, top_left_coordinates, bottom_right_coordinates, (255,255,255), 4)\n",
    "\n",
    "cv2.imshow('Finding match using TM_SQDIFF_NORMED', image)\n",
    "cv2.waitKey(0)\n",
    "cv2.destroyAllWindows()"
   ]
  },
  {
   "cell_type": "markdown",
   "metadata": {},
   "source": [
    "."
   ]
  },
  {
   "cell_type": "markdown",
   "metadata": {},
   "source": [
    "Thanks for having a look :)"
   ]
  }
 ],
 "metadata": {
  "kernelspec": {
   "display_name": "Python 3",
   "language": "python",
   "name": "python3"
  },
  "language_info": {
   "codemirror_mode": {
    "name": "ipython",
    "version": 3
   },
   "file_extension": ".py",
   "mimetype": "text/x-python",
   "name": "python",
   "nbconvert_exporter": "python",
   "pygments_lexer": "ipython3",
   "version": "3.5.2"
  }
 },
 "nbformat": 4,
 "nbformat_minor": 2
}
